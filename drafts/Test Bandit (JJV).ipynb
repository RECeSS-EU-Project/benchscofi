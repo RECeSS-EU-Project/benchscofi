{
 "cells": [
  {
   "cell_type": "markdown",
   "id": "0144eb42",
   "metadata": {},
   "source": [
    "Using Open Bandits Pipeline **[1]**\n",
    "\n",
    "**[1]** https://arxiv.org/pdf/2008.07146.pdf"
   ]
  },
  {
   "cell_type": "code",
   "execution_count": null,
   "id": "de5d19b2",
   "metadata": {
    "scrolled": true
   },
   "outputs": [],
   "source": [
    "!pip install stanscofi"
   ]
  },
  {
   "cell_type": "code",
   "execution_count": null,
   "id": "27c230c7",
   "metadata": {
    "scrolled": true
   },
   "outputs": [],
   "source": [
    "from stanscofi.utils import load_dataset\n",
    "from stanscofi.datasets import Dataset\n",
    "\n",
    "## Load dataset\n",
    "transcript_args = load_dataset(\"TRANSCRIPT\")\n",
    "transcript_args.update({\"name\": \"TRANSCRIPT\", \"same_item_user_features\": True})\n",
    "transcript = Dataset(**transcript_args)\n",
    "\n",
    "transcript.visualize(withzeros=False)"
   ]
  },
  {
   "cell_type": "code",
   "execution_count": 40,
   "id": "5173e805",
   "metadata": {},
   "outputs": [],
   "source": [
    "??transcript"
   ]
  },
  {
   "cell_type": "code",
   "execution_count": 3,
   "id": "5b796823",
   "metadata": {},
   "outputs": [
    {
     "data": {
      "text/plain": [
       "(613, 151)"
      ]
     },
     "execution_count": 3,
     "metadata": {},
     "output_type": "execute_result"
    }
   ],
   "source": [
    "transcript.ratings_mat.shape  # 613 drugs 151 diseases"
   ]
  },
  {
   "cell_type": "code",
   "execution_count": 4,
   "id": "77d0a618",
   "metadata": {},
   "outputs": [
    {
     "data": {
      "text/plain": [
       "(12096, 151)"
      ]
     },
     "execution_count": 4,
     "metadata": {},
     "output_type": "execute_result"
    }
   ],
   "source": [
    "transcript.users.shape"
   ]
  },
  {
   "cell_type": "code",
   "execution_count": 5,
   "id": "bdd04187",
   "metadata": {},
   "outputs": [
    {
     "data": {
      "text/plain": [
       "(12096, 613)"
      ]
     },
     "execution_count": 5,
     "metadata": {},
     "output_type": "execute_result"
    }
   ],
   "source": [
    "transcript.items.shape"
   ]
  },
  {
   "cell_type": "code",
   "execution_count": 6,
   "id": "31ae056f",
   "metadata": {},
   "outputs": [],
   "source": [
    "from scipy.sparse import coo_matrix\n",
    "import pandas as pd\n",
    "import numpy as np\n",
    "\n",
    "def from_data_to_X(dataset):\n",
    "    M = coo_matrix(dataset.ratings_mat)\n",
    "    drugs = M.row\n",
    "    diseases = M.col\n",
    "    ratings = M.data\n",
    "    df = pd.DataFrame(np.column_stack([drugs, diseases, ratings]), columns=('drug', 'disease', 'rating'))\n",
    "    # df.head()\n",
    "    \n",
    "    X = transcript.items.T[drugs] * transcript.users.T[diseases]\n",
    "    \n",
    "    return X, df['rating']"
   ]
  },
  {
   "cell_type": "code",
   "execution_count": 8,
   "id": "1251b26a",
   "metadata": {},
   "outputs": [
    {
     "data": {
      "text/plain": [
       "((412, 12096), (412,))"
      ]
     },
     "execution_count": 8,
     "metadata": {},
     "output_type": "execute_result"
    }
   ],
   "source": [
    "X, y = from_data_to_X(transcript)\n",
    "X.shape, y.shape"
   ]
  },
  {
   "cell_type": "code",
   "execution_count": 39,
   "id": "e98e64f5",
   "metadata": {},
   "outputs": [
    {
     "data": {
      "text/plain": [
       "(412, 12096)"
      ]
     },
     "execution_count": 39,
     "metadata": {},
     "output_type": "execute_result"
    }
   ],
   "source": [
    "transcript.items.T[drugs].shape"
   ]
  },
  {
   "cell_type": "code",
   "execution_count": 41,
   "id": "9d0f02f9",
   "metadata": {},
   "outputs": [
    {
     "data": {
      "text/plain": [
       "(412, 12096)"
      ]
     },
     "execution_count": 41,
     "metadata": {},
     "output_type": "execute_result"
    }
   ],
   "source": [
    "transcript.users.T[diseases].shape"
   ]
  },
  {
   "cell_type": "code",
   "execution_count": 59,
   "id": "aafa515b",
   "metadata": {},
   "outputs": [],
   "source": [
    "#plt.imshow(transcript.items)"
   ]
  },
  {
   "cell_type": "code",
   "execution_count": 73,
   "id": "86b364f3",
   "metadata": {},
   "outputs": [
    {
     "data": {
      "text/plain": [
       " 1    401\n",
       "-1     11\n",
       "Name: rating, dtype: int64"
      ]
     },
     "execution_count": 73,
     "metadata": {},
     "output_type": "execute_result"
    }
   ],
   "source": [
    "df['rating'].value_counts()"
   ]
  },
  {
   "cell_type": "code",
   "execution_count": 66,
   "id": "265d0cff",
   "metadata": {},
   "outputs": [
    {
     "data": {
      "text/plain": [
       "80701"
      ]
     },
     "execution_count": 66,
     "metadata": {},
     "output_type": "execute_result"
    }
   ],
   "source": [
    "coo_matrix(transcript.users).getnnz()"
   ]
  },
  {
   "cell_type": "code",
   "execution_count": 65,
   "id": "fe8d990c",
   "metadata": {},
   "outputs": [
    {
     "data": {
      "text/plain": [
       "(12096, 151)"
      ]
     },
     "execution_count": 65,
     "metadata": {},
     "output_type": "execute_result"
    }
   ],
   "source": [
    "transcript.users.shape"
   ]
  },
  {
   "cell_type": "code",
   "execution_count": 64,
   "id": "5fe4d9da",
   "metadata": {},
   "outputs": [
    {
     "data": {
      "text/plain": [
       "7414848"
      ]
     },
     "execution_count": 64,
     "metadata": {},
     "output_type": "execute_result"
    }
   ],
   "source": [
    "(12096 * 613)"
   ]
  },
  {
   "cell_type": "code",
   "execution_count": 54,
   "id": "db95851b",
   "metadata": {},
   "outputs": [
    {
     "data": {
      "text/plain": [
       "(-0.5639870762825012, 0.4877828657627105)"
      ]
     },
     "execution_count": 54,
     "metadata": {},
     "output_type": "execute_result"
    }
   ],
   "source": [
    "transcript.items.min(), transcript.items.max()"
   ]
  },
  {
   "cell_type": "code",
   "execution_count": 55,
   "id": "9297a1a3",
   "metadata": {},
   "outputs": [
    {
     "data": {
      "text/plain": [
       "(-0.7248830795288086, 0.6328290104866028)"
      ]
     },
     "execution_count": 55,
     "metadata": {},
     "output_type": "execute_result"
    }
   ],
   "source": [
    "transcript.users.min(), transcript.users.max()"
   ]
  },
  {
   "cell_type": "code",
   "execution_count": 45,
   "id": "6dfefc96",
   "metadata": {},
   "outputs": [],
   "source": [
    "df['plus'] = (transcript.items.T[drugs] + transcript.users.T[diseases]).mean(axis=1)"
   ]
  },
  {
   "cell_type": "code",
   "execution_count": 46,
   "id": "ef810fa1",
   "metadata": {},
   "outputs": [],
   "source": [
    "df['minus'] = (transcript.items.T[drugs] - transcript.users.T[diseases]).sum(axis=1)"
   ]
  },
  {
   "cell_type": "code",
   "execution_count": 67,
   "id": "236f1896",
   "metadata": {},
   "outputs": [],
   "source": [
    "df['prod'] = (transcript.items.T[drugs] * transcript.users.T[diseases]).sum(axis=1)"
   ]
  },
  {
   "cell_type": "code",
   "execution_count": 1,
   "id": "db7bbc8b",
   "metadata": {},
   "outputs": [],
   "source": [
    "# X, y = stanscofi.preprocessing.same_feature_preprocessing(transcript)"
   ]
  },
  {
   "cell_type": "code",
   "execution_count": 71,
   "id": "62495c1a",
   "metadata": {},
   "outputs": [
    {
     "data": {
      "text/plain": [
       "<matplotlib.legend.Legend at 0x7f99c88cc100>"
      ]
     },
     "execution_count": 71,
     "metadata": {},
     "output_type": "execute_result"
    },
    {
     "data": {
      "image/png": "[encoded data removed]",
      "text/plain": [
       "<Figure size 640x480 with 1 Axes>"
      ]
     },
     "metadata": {},
     "output_type": "display_data"
    }
   ],
   "source": [
    "import matplotlib.pyplot as plt\n",
    "\n",
    "df.query(\"rating == 1\")['prod'].hist(label='pos', density=True)\n",
    "df.query(\"rating == -1\")['prod'].hist(label='neg')\n",
    "plt.legend()"
   ]
  },
  {
   "cell_type": "code",
   "execution_count": 11,
   "id": "275d6b19",
   "metadata": {},
   "outputs": [
    {
     "name": "stdout",
     "output_type": "stream",
     "text": [
      "<training_testing.traintest_validation_split> The sets of items/drugs in the training/testing datasets are disjoint.\n",
      "<training_testing.traintest_validation_split> The sets of users/diseases in the training/testing datasets are *not* disjoint.\n",
      "<training_testing.traintest_validation_split> Distances:\n",
      "              Train set  Test set\n",
      "Train set  3.330669e-16  0.601229\n",
      "Test set   6.012292e-01  0.263550\n"
     ]
    }
   ],
   "source": [
    "import stanscofi.training_testing\n",
    "\n",
    "dataset = transcript\n",
    "test_size=0.2\n",
    "metric = 'cosine'\n",
    "random_state = 42\n",
    "train_folds, test_folds, _,_ = stanscofi.training_testing.traintest_validation_split(dataset, test_size=test_size, \n",
    "    early_stop=1, metric=metric, disjoint_users=False, verbose=False, random_state=random_state, print_dists=True)"
   ]
  },
  {
   "cell_type": "code",
   "execution_count": 12,
   "id": "df6531cb",
   "metadata": {},
   "outputs": [],
   "source": [
    "train_data = transcript.get_folds(train_folds)\n",
    "test_data = transcript.get_folds(test_folds)"
   ]
  },
  {
   "cell_type": "code",
   "execution_count": 13,
   "id": "4c5c3246",
   "metadata": {},
   "outputs": [],
   "source": [
    "X_train, y_train = from_data_to_X(train_data)\n",
    "X_test, y_test = from_data_to_X(test_data)"
   ]
  },
  {
   "cell_type": "code",
   "execution_count": 39,
   "id": "95f94396",
   "metadata": {},
   "outputs": [
    {
     "data": {
      "text/plain": [
       "(Counter({1: 321, -1: 9}), Counter({1: 80, -1: 2}))"
      ]
     },
     "execution_count": 39,
     "metadata": {},
     "output_type": "execute_result"
    }
   ],
   "source": [
    "from collections import Counter\n",
    "\n",
    "Counter(y_train), Counter(y_test)"
   ]
  },
  {
   "cell_type": "code",
   "execution_count": 40,
   "id": "6442653e",
   "metadata": {},
   "outputs": [
    {
     "data": {
      "text/plain": [
       "((330, 12096), (82, 12096))"
      ]
     },
     "execution_count": 40,
     "metadata": {},
     "output_type": "execute_result"
    }
   ],
   "source": [
    "X_train.shape, X_test.shape"
   ]
  },
  {
   "cell_type": "code",
   "execution_count": 15,
   "id": "cb3ba26e",
   "metadata": {},
   "outputs": [],
   "source": [
    "from sklearn.linear_model import LogisticRegression"
   ]
  },
  {
   "cell_type": "code",
   "execution_count": 43,
   "id": "a2f29bee",
   "metadata": {},
   "outputs": [
    {
     "data": {
      "text/html": [
       "<style>#sk-container-id-4 {color: black;background-color: white;}#sk-container-id-4 pre{padding: 0;}#sk-container-id-4 div.sk-toggleable {background-color: white;}#sk-container-id-4 label.sk-toggleable__label {cursor: pointer;display: block;width: 100%;margin-bottom: 0;padding: 0.3em;box-sizing: border-box;text-align: center;}#sk-container-id-4 label.sk-toggleable__label-arrow:before {content: \"▸\";float: left;margin-right: 0.25em;color: #696969;}#sk-container-id-4 label.sk-toggleable__label-arrow:hover:before {color: black;}#sk-container-id-4 div.sk-estimator:hover label.sk-toggleable__label-arrow:before {color: black;}#sk-container-id-4 div.sk-toggleable__content {max-height: 0;max-width: 0;overflow: hidden;text-align: left;background-color: #f0f8ff;}#sk-container-id-4 div.sk-toggleable__content pre {margin: 0.2em;color: black;border-radius: 0.25em;background-color: #f0f8ff;}#sk-container-id-4 input.sk-toggleable__control:checked~div.sk-toggleable__content {max-height: 200px;max-width: 100%;overflow: auto;}#sk-container-id-4 input.sk-toggleable__control:checked~label.sk-toggleable__label-arrow:before {content: \"▾\";}#sk-container-id-4 div.sk-estimator input.sk-toggleable__control:checked~label.sk-toggleable__label {background-color: #d4ebff;}#sk-container-id-4 div.sk-label input.sk-toggleable__control:checked~label.sk-toggleable__label {background-color: #d4ebff;}#sk-container-id-4 input.sk-hidden--visually {border: 0;clip: rect(1px 1px 1px 1px);clip: rect(1px, 1px, 1px, 1px);height: 1px;margin: -1px;overflow: hidden;padding: 0;position: absolute;width: 1px;}#sk-container-id-4 div.sk-estimator {font-family: monospace;background-color: #f0f8ff;border: 1px dotted black;border-radius: 0.25em;box-sizing: border-box;margin-bottom: 0.5em;}#sk-container-id-4 div.sk-estimator:hover {background-color: #d4ebff;}#sk-container-id-4 div.sk-parallel-item::after {content: \"\";width: 100%;border-bottom: 1px solid gray;flex-grow: 1;}#sk-container-id-4 div.sk-label:hover label.sk-toggleable__label {background-color: #d4ebff;}#sk-container-id-4 div.sk-serial::before {content: \"\";position: absolute;border-left: 1px solid gray;box-sizing: border-box;top: 0;bottom: 0;left: 50%;z-index: 0;}#sk-container-id-4 div.sk-serial {display: flex;flex-direction: column;align-items: center;background-color: white;padding-right: 0.2em;padding-left: 0.2em;position: relative;}#sk-container-id-4 div.sk-item {position: relative;z-index: 1;}#sk-container-id-4 div.sk-parallel {display: flex;align-items: stretch;justify-content: center;background-color: white;position: relative;}#sk-container-id-4 div.sk-item::before, #sk-container-id-4 div.sk-parallel-item::before {content: \"\";position: absolute;border-left: 1px solid gray;box-sizing: border-box;top: 0;bottom: 0;left: 50%;z-index: -1;}#sk-container-id-4 div.sk-parallel-item {display: flex;flex-direction: column;z-index: 1;position: relative;background-color: white;}#sk-container-id-4 div.sk-parallel-item:first-child::after {align-self: flex-end;width: 50%;}#sk-container-id-4 div.sk-parallel-item:last-child::after {align-self: flex-start;width: 50%;}#sk-container-id-4 div.sk-parallel-item:only-child::after {width: 0;}#sk-container-id-4 div.sk-dashed-wrapped {border: 1px dashed gray;margin: 0 0.4em 0.5em 0.4em;box-sizing: border-box;padding-bottom: 0.4em;background-color: white;}#sk-container-id-4 div.sk-label label {font-family: monospace;font-weight: bold;display: inline-block;line-height: 1.2em;}#sk-container-id-4 div.sk-label-container {text-align: center;}#sk-container-id-4 div.sk-container {/* jupyter's `normalize.less` sets `[hidden] { display: none; }` but bootstrap.min.css set `[hidden] { display: none !important; }` so we also need the `!important` here to be able to override the default hidden behavior on the sphinx rendered scikit-learn.org. See: https://github.com/scikit-learn/scikit-learn/issues/21755 */display: inline-block !important;position: relative;}#sk-container-id-4 div.sk-text-repr-fallback {display: none;}</style><div id=\"sk-container-id-4\" class=\"sk-top-container\"><div class=\"sk-text-repr-fallback\"><pre>LogisticRegression()</pre><b>In a Jupyter environment, please rerun this cell to show the HTML representation or trust the notebook. <br />On GitHub, the HTML representation is unable to render, please try loading this page with nbviewer.org.</b></div><div class=\"sk-container\" hidden><div class=\"sk-item\"><div class=\"sk-estimator sk-toggleable\"><input class=\"sk-toggleable__control sk-hidden--visually\" id=\"sk-estimator-id-4\" type=\"checkbox\" checked><label for=\"sk-estimator-id-4\" class=\"sk-toggleable__label sk-toggleable__label-arrow\">LogisticRegression</label><div class=\"sk-toggleable__content\"><pre>LogisticRegression()</pre></div></div></div></div></div>"
      ],
      "text/plain": [
       "LogisticRegression()"
      ]
     },
     "execution_count": 43,
     "metadata": {},
     "output_type": "execute_result"
    }
   ],
   "source": [
    "lr = LogisticRegression()#class_weight='balanced')\n",
    "\n",
    "lr.fit(X_train, y_train)"
   ]
  },
  {
   "cell_type": "code",
   "execution_count": 44,
   "id": "5a437918",
   "metadata": {},
   "outputs": [
    {
     "data": {
      "text/plain": [
       "0.9727272727272728"
      ]
     },
     "execution_count": 44,
     "metadata": {},
     "output_type": "execute_result"
    }
   ],
   "source": [
    "lr.score(X_train, y_train)"
   ]
  },
  {
   "cell_type": "code",
   "execution_count": 45,
   "id": "058a175e",
   "metadata": {},
   "outputs": [
    {
     "data": {
      "text/plain": [
       "0.975609756097561"
      ]
     },
     "execution_count": 45,
     "metadata": {},
     "output_type": "execute_result"
    }
   ],
   "source": [
    "lr.score(X_test, y_test)"
   ]
  },
  {
   "cell_type": "code",
   "execution_count": 46,
   "id": "415fc991",
   "metadata": {},
   "outputs": [],
   "source": [
    "#X_pred = lr.predict_proba(X_test)\n",
    "#X_pred"
   ]
  },
  {
   "cell_type": "code",
   "execution_count": 54,
   "id": "ba58d9be",
   "metadata": {},
   "outputs": [
    {
     "data": {
      "text/plain": [
       "array([0.02727272, 0.02727235, 0.02727268, 0.02727377, 0.02727271,\n",
       "       0.02726897, 0.02727289, 0.02726916, 0.02727764, 0.02727365,\n",
       "       0.02727223, 0.02727559, 0.02727273, 0.02727112, 0.02727343,\n",
       "       0.02727536, 0.02727705, 0.02727299, 0.02727322, 0.02728024,\n",
       "       0.02727379, 0.02727281, 0.02727346, 0.02727371, 0.02727007,\n",
       "       0.02727007, 0.02727226, 0.02727483, 0.02727692, 0.02727495,\n",
       "       0.02727253, 0.02726971, 0.02727014, 0.02727275, 0.02727562,\n",
       "       0.02726738, 0.02726905, 0.02727267, 0.02726738, 0.02727246,\n",
       "       0.02727308, 0.0272735 , 0.0272725 , 0.02727203, 0.02727595,\n",
       "       0.02727292, 0.02727331, 0.02727253, 0.02727487, 0.02726357,\n",
       "       0.02727322, 0.02727196, 0.02729541, 0.02726456, 0.02727155,\n",
       "       0.02727225, 0.02727269, 0.02727266, 0.02727262, 0.02727221,\n",
       "       0.02727246, 0.02727308, 0.0272735 , 0.02727184, 0.02727281,\n",
       "       0.02727271, 0.0272727 , 0.02727259, 0.02727255, 0.02727182,\n",
       "       0.02727262, 0.02727258, 0.02727294, 0.02727073, 0.02727235,\n",
       "       0.02726947, 0.02727199, 0.02727192, 0.02727357, 0.02727269,\n",
       "       0.02727037, 0.0272719 ])"
      ]
     },
     "execution_count": 54,
     "metadata": {},
     "output_type": "execute_result"
    }
   ],
   "source": [
    "scores = lr.predict_proba(X_test)[:, 0]\n",
    "scores"
   ]
  },
  {
   "cell_type": "code",
   "execution_count": 50,
   "id": "ad92063f",
   "metadata": {},
   "outputs": [
    {
     "data": {
      "text/plain": [
       "Counter({1: 80, -1: 2})"
      ]
     },
     "execution_count": 50,
     "metadata": {},
     "output_type": "execute_result"
    }
   ],
   "source": [
    "Counter(y_test)"
   ]
  },
  {
   "cell_type": "code",
   "execution_count": 68,
   "id": "4fe43a0e",
   "metadata": {},
   "outputs": [],
   "source": [
    "df_res = pd.DataFrame(np.column_stack([scores, y_test]), columns=('pred', 'truth'))"
   ]
  },
  {
   "cell_type": "code",
   "execution_count": 69,
   "id": "e8162d94",
   "metadata": {},
   "outputs": [
    {
     "data": {
      "text/html": [
       "<div>\n",
       "<style scoped>\n",
       "    .dataframe tbody tr th:only-of-type {\n",
       "        vertical-align: middle;\n",
       "    }\n",
       "\n",
       "    .dataframe tbody tr th {\n",
       "        vertical-align: top;\n",
       "    }\n",
       "\n",
       "    .dataframe thead th {\n",
       "        text-align: right;\n",
       "    }\n",
       "</style>\n",
       "<table border=\"1\" class=\"dataframe\">\n",
       "  <thead>\n",
       "    <tr style=\"text-align: right;\">\n",
       "      <th></th>\n",
       "      <th>pred</th>\n",
       "      <th>truth</th>\n",
       "    </tr>\n",
       "  </thead>\n",
       "  <tbody>\n",
       "    <tr>\n",
       "      <th>0</th>\n",
       "      <td>0.027273</td>\n",
       "      <td>1.0</td>\n",
       "    </tr>\n",
       "    <tr>\n",
       "      <th>1</th>\n",
       "      <td>0.027272</td>\n",
       "      <td>1.0</td>\n",
       "    </tr>\n",
       "    <tr>\n",
       "      <th>2</th>\n",
       "      <td>0.027273</td>\n",
       "      <td>1.0</td>\n",
       "    </tr>\n",
       "    <tr>\n",
       "      <th>3</th>\n",
       "      <td>0.027274</td>\n",
       "      <td>1.0</td>\n",
       "    </tr>\n",
       "    <tr>\n",
       "      <th>4</th>\n",
       "      <td>0.027273</td>\n",
       "      <td>1.0</td>\n",
       "    </tr>\n",
       "  </tbody>\n",
       "</table>\n",
       "</div>"
      ],
      "text/plain": [
       "       pred  truth\n",
       "0  0.027273    1.0\n",
       "1  0.027272    1.0\n",
       "2  0.027273    1.0\n",
       "3  0.027274    1.0\n",
       "4  0.027273    1.0"
      ]
     },
     "execution_count": 69,
     "metadata": {},
     "output_type": "execute_result"
    }
   ],
   "source": [
    "df_res.head()"
   ]
  },
  {
   "cell_type": "code",
   "execution_count": 72,
   "id": "4553df1f",
   "metadata": {},
   "outputs": [
    {
     "data": {
      "text/plain": [
       "<matplotlib.legend.Legend at 0x7f94698a4340>"
      ]
     },
     "execution_count": 72,
     "metadata": {},
     "output_type": "execute_result"
    },
    {
     "data": {
      "image/png": "[encoded data removed]",
      "text/plain": [
       "<Figure size 640x480 with 1 Axes>"
      ]
     },
     "metadata": {},
     "output_type": "display_data"
    }
   ],
   "source": [
    "import matplotlib.pyplot as plt\n",
    "\n",
    "df_res.query('truth == 1')['pred'].hist(label='pos')\n",
    "df_res.query('truth == -1')['pred'].hist(label='neg')\n",
    "plt.legend()"
   ]
  },
  {
   "cell_type": "code",
   "execution_count": 61,
   "id": "2f7c2a88",
   "metadata": {},
   "outputs": [
    {
     "data": {
      "text/plain": [
       "0.7437499999999999"
      ]
     },
     "execution_count": 61,
     "metadata": {},
     "output_type": "execute_result"
    }
   ],
   "source": [
    "from sklearn.metrics import roc_auc_score, accuracy_score\n",
    "\n",
    "roc_auc_score((y_test + 1) // 2, scores)"
   ]
  },
  {
   "cell_type": "code",
   "execution_count": 62,
   "id": "e6bd6a84",
   "metadata": {},
   "outputs": [
    {
     "data": {
      "text/plain": [
       "0.024390243902439025"
      ]
     },
     "execution_count": 62,
     "metadata": {},
     "output_type": "execute_result"
    }
   ],
   "source": [
    "accuracy_score((y_test + 1) // 2, scores.round())"
   ]
  },
  {
   "cell_type": "code",
   "execution_count": 36,
   "id": "855295aa",
   "metadata": {},
   "outputs": [
    {
     "data": {
      "text/plain": [
       "array([[0.49944519, 0.50055481],\n",
       "       [0.49941237, 0.50058763],\n",
       "       [0.49944109, 0.50055891],\n",
       "       [0.49953805, 0.50046195],\n",
       "       [0.49944354, 0.50055646],\n",
       "       [0.49911299, 0.50088701],\n",
       "       [0.49945947, 0.50054053],\n",
       "       [0.4991301 , 0.5008699 ],\n",
       "       [0.49988044, 0.50011956],\n",
       "       [0.4995272 , 0.5004728 ],\n",
       "       [0.49940163, 0.50059837],\n",
       "       [0.49969854, 0.50030146],\n",
       "       [0.49944539, 0.50055461],\n",
       "       [0.49930295, 0.50069705],\n",
       "       [0.49950731, 0.50049269],\n",
       "       [0.49967806, 0.50032194],\n",
       "       [0.49982791, 0.50017209],\n",
       "       [0.49946897, 0.50053103],\n",
       "       [0.4994893 , 0.5005107 ],\n",
       "       [0.5001105 , 0.4998895 ],\n",
       "       [0.49953963, 0.50046037],\n",
       "       [0.49945232, 0.50054768],\n",
       "       [0.4995101 , 0.5004899 ],\n",
       "       [0.49953217, 0.50046783],\n",
       "       [0.49920984, 0.50079016],\n",
       "       [0.49920984, 0.50079016],\n",
       "       [0.49940446, 0.50059554],\n",
       "       [0.49963166, 0.50036834],\n",
       "       [0.49981608, 0.50018392],\n",
       "       [0.49964233, 0.50035767],\n",
       "       [0.49942815, 0.50057185],\n",
       "       [0.49917847, 0.50082153],\n",
       "       [0.49921607, 0.50078393],\n",
       "       [0.49944786, 0.50055214],\n",
       "       [0.49970164, 0.50029836],\n",
       "       [0.49897217, 0.50102783],\n",
       "       [0.49911973, 0.50088027],\n",
       "       [0.49944036, 0.50055964],\n",
       "       [0.49897187, 0.50102813],\n",
       "       [0.49942204, 0.50057796],\n",
       "       [0.49947637, 0.50052363],\n",
       "       [0.49951351, 0.50048649],\n",
       "       [0.49942492, 0.50057508],\n",
       "       [0.49938371, 0.50061629],\n",
       "       [0.49973086, 0.50026914],\n",
       "       [0.49946226, 0.50053774],\n",
       "       [0.49949684, 0.50050316],\n",
       "       [0.49942824, 0.50057176],\n",
       "       [0.4996355 , 0.5003645 ],\n",
       "       [0.49863551, 0.50136449],\n",
       "       [0.49948915, 0.50051085],\n",
       "       [0.49937789, 0.50062211],\n",
       "       [0.50145143, 0.49854857],\n",
       "       [0.49872283, 0.50127717],\n",
       "       [0.49934168, 0.50065832],\n",
       "       [0.4994033 , 0.5005967 ],\n",
       "       [0.49944237, 0.50055763],\n",
       "       [0.49943924, 0.50056076],\n",
       "       [0.49943619, 0.50056381],\n",
       "       [0.49939948, 0.50060052],\n",
       "       [0.49942204, 0.50057796],\n",
       "       [0.49947637, 0.50052363],\n",
       "       [0.49951351, 0.50048649],\n",
       "       [0.49936678, 0.50063322],\n",
       "       [0.49945277, 0.50054723],\n",
       "       [0.4994439 , 0.5005561 ],\n",
       "       [0.49944285, 0.50055715],\n",
       "       [0.49943291, 0.50056709],\n",
       "       [0.49942933, 0.50057067],\n",
       "       [0.49936551, 0.50063449],\n",
       "       [0.49943612, 0.50056388],\n",
       "       [0.49943233, 0.50056767],\n",
       "       [0.49946376, 0.50053624],\n",
       "       [0.49926847, 0.50073153],\n",
       "       [0.49941213, 0.50058787],\n",
       "       [0.499157  , 0.500843  ],\n",
       "       [0.49938048, 0.50061952],\n",
       "       [0.49937374, 0.50062626],\n",
       "       [0.49952041, 0.50047959],\n",
       "       [0.49944203, 0.50055797],\n",
       "       [0.49923621, 0.50076379],\n",
       "       [0.49937216, 0.50062784]])"
      ]
     },
     "execution_count": 36,
     "metadata": {},
     "output_type": "execute_result"
    }
   ],
   "source": [
    "lr.predict_proba(X_test)"
   ]
  },
  {
   "cell_type": "code",
   "execution_count": 25,
   "id": "e6c42f4b",
   "metadata": {},
   "outputs": [
    {
     "ename": "NameError",
     "evalue": "name 'scores' is not defined",
     "output_type": "error",
     "traceback": [
      "\u001b[0;31m---------------------------------------------------------------------------\u001b[0m",
      "\u001b[0;31mNameError\u001b[0m                                 Traceback (most recent call last)",
      "Input \u001b[0;32mIn [25]\u001b[0m, in \u001b[0;36m<cell line: 1>\u001b[0;34m()\u001b[0m\n\u001b[0;32m----> 1\u001b[0m metrics, plot_args \u001b[38;5;241m=\u001b[39m stanscofi\u001b[38;5;241m.\u001b[39mvalidation\u001b[38;5;241m.\u001b[39mcompute_metrics(\u001b[43mscores\u001b[49m, predictions, test_dataset, \n\u001b[1;32m      2\u001b[0m                                                           ignore_zeroes\u001b[38;5;241m=\u001b[39m\u001b[38;5;28;01mFalse\u001b[39;00m, verbose\u001b[38;5;241m=\u001b[39m\u001b[38;5;28;01mTrue\u001b[39;00m)\n",
      "\u001b[0;31mNameError\u001b[0m: name 'scores' is not defined"
     ]
    }
   ],
   "source": [
    "metrics, plot_args = stanscofi.validation.compute_metrics(scores, predictions, test_dataset, \n",
    "                                                          ignore_zeroes=False, verbose=True)"
   ]
  },
  {
   "cell_type": "code",
   "execution_count": null,
   "id": "16bb99c5",
   "metadata": {},
   "outputs": [],
   "source": []
  },
  {
   "cell_type": "code",
   "execution_count": 7,
   "id": "bc777025",
   "metadata": {},
   "outputs": [],
   "source": [
    "from importlib import reload\n",
    "import sys\n",
    "sys.path.insert(0,\"src/\")\n",
    "import benchscofi"
   ]
  },
  {
   "cell_type": "code",
   "execution_count": 8,
   "id": "556a03cf",
   "metadata": {},
   "outputs": [
    {
     "data": {
      "image/png": "[encoded data removed]",
      "text/plain": [
       "<Figure size 500x500 with 1 Axes>"
      ]
     },
     "metadata": {},
     "output_type": "display_data"
    }
   ],
   "source": [
    "## Restrict to a single disease\n",
    "import numpy as np\n",
    "\n",
    "## Which is the disease with the most ratings?\n",
    "disease_idx = np.argmax(np.abs(transcript.ratings_mat).sum(axis=0))\n",
    "disease_folds = np.asarray(np.zeros((transcript.ratings_mat.shape[0],3)), dtype=int)\n",
    "disease_folds[:,0] = disease_idx\n",
    "disease_folds[:,1] = list(range(transcript.ratings_mat.shape[0]))\n",
    "disease_folds[:,2] = transcript.ratings_mat[:,disease_idx].ravel()\n",
    "subset = transcript.get_folds(disease_folds) ## restrict to that disease\n",
    "\n",
    "subset.visualize(withzeros=True)"
   ]
  },
  {
   "cell_type": "code",
   "execution_count": 9,
   "id": "a02b2244",
   "metadata": {},
   "outputs": [],
   "source": [
    "## Directly use a_i+theta ~ log(FC) as action feature vectors \n",
    "import numpy as np\n",
    "\n",
    "def same_feature_preprocessing(dataset):\n",
    "    assert dataset.same_item_user_features\n",
    "    y = np.ravel(dataset.ratings_mat.flatten())\n",
    "    S_, P_ = dataset.items.T.copy(), dataset.users.T.copy()\n",
    "    P_[np.isnan(P_)] = 0\n",
    "    S_[np.isnan(S_)] = 0\n",
    "    ids = np.argwhere(np.ones(dataset.ratings_mat.shape)) # (item, user) pairs\n",
    "    X = np.concatenate(tuple([\n",
    "        np.add(S_[i, :], P_[j, :]).reshape(-1,1) ## a_i+theta\n",
    "        for i, j in ids.tolist()\n",
    "    ]), axis=1).T ## pairs x features\n",
    "    return X, y"
   ]
  },
  {
   "cell_type": "code",
   "execution_count": 10,
   "id": "85599e5b",
   "metadata": {},
   "outputs": [
    {
     "data": {
      "text/plain": [
       "((613, 12096), (613,))"
      ]
     },
     "execution_count": 10,
     "metadata": {},
     "output_type": "execute_result"
    }
   ],
   "source": [
    "X, y = same_feature_preprocessing(subset)\n",
    "(X.shape, y.shape)"
   ]
  },
  {
   "cell_type": "code",
   "execution_count": 24,
   "id": "76487dcf",
   "metadata": {},
   "outputs": [
    {
     "name": "stdout",
     "output_type": "stream",
     "text": [
      "Perc. of zero values in drug feature vector 45.35 perc. (N=613 drugs)\n",
      "Perc. of zero values in disease feature vector 95.51 perc. (N=1 diseases)\n",
      "Spearman's r correlation 0.059\n"
     ]
    }
   ],
   "source": [
    "FeatureDrugs = subset.items.T.copy()\n",
    "FeatureDiseases = subset.users.T.copy()\n",
    "\n",
    "## is it sparse?\n",
    "print(\"Perc. of zero values in drug feature vector %.2f perc. (N=%d drugs)\" \n",
    " % (np.sum(FeatureDrugs==0)*100/(FeatureDrugs.shape[0]*FeatureDrugs.shape[1]), FeatureDrugs.shape[0]))\n",
    "print(\"Perc. of zero values in disease feature vector %.2f perc. (N=%d diseases)\" \n",
    " % (np.sum(FeatureDiseases==0)*100/(FeatureDiseases.shape[0]*FeatureDiseases.shape[1]), FeatureDiseases.shape[0]))\n",
    "\n",
    "## do cosine distance scores match reported outcomes?\n",
    "from sklearn.metrics.pairwise import cosine_similarity\n",
    "from scipy.stats import spearmanr\n",
    "cos_distances = 1-cosine_similarity(FeatureDrugs, FeatureDiseases)\n",
    "res = spearmanr(cos_distances[y!=0], y[y!=0])\n",
    "print(\"Spearman's r correlation %.3f\" % res.correlation)"
   ]
  },
  {
   "cell_type": "code",
   "execution_count": 25,
   "id": "d4e43080",
   "metadata": {},
   "outputs": [],
   "source": [
    "from obp.dataset import MultiClassToBanditReduction\n",
    "from obp.ope import OffPolicyEvaluation, InverseProbabilityWeighting as IPW"
   ]
  },
  {
   "cell_type": "code",
   "execution_count": 27,
   "id": "df2e1001",
   "metadata": {},
   "outputs": [
    {
     "name": "stdout",
     "output_type": "stream",
     "text": [
      "Ground truth perf = 0.951\n",
      "Relative EE (ipw) = 0.955\n"
     ]
    }
   ],
   "source": [
    "random_seed=12345\n",
    "\n",
    "from sklearn.linear_model import LogisticRegression\n",
    "from sklearn.ensemble import RandomForestClassifier\n",
    "\n",
    "dataset = MultiClassToBanditReduction(X=X, y=y, \n",
    "                    base_classifier_b=LogisticRegression(random_state=random_seed))\n",
    "dataset.split_train_eval(eval_size=0.7, random_state=random_seed)\n",
    "bandit_feedback = dataset.obtain_batch_bandit_feedback(random_state=random_seed)\n",
    "\n",
    "# obtain action choice probabilities of an evaluation policy\n",
    "action_dist = dataset.obtain_action_dist_by_eval_policy(\n",
    "    base_classifier_e=RandomForestClassifier(random_state=random_seed)\n",
    ")\n",
    "# calculate the ground-truth performance of the evaluation policy\n",
    "ground_truth = dataset.calc_ground_truth_policy_value(action_dist=action_dist)\n",
    "print(\"Ground truth perf = %.3f\" % ground_truth)\n",
    "\n",
    "# Off-Policy Evaluation\n",
    "ope = OffPolicyEvaluation(bandit_feedback=bandit_feedback, ope_estimators=[IPW()])\n",
    "# evaluate the estimation performance (accuracy) of IPW by the relative estimation \n",
    "# error (relative-ee)\n",
    "relative_estimation_errors = ope.evaluate_performance_of_estimators(\n",
    "        ground_truth_policy_value=ground_truth,\n",
    "        action_dist=action_dist,\n",
    "        metric=\"relative-ee\",\n",
    ")\n",
    "print(\"Relative EE (%s) = %.3f\" % [(k,relative_estimation_errors[k])\n",
    "                                         for k in relative_estimation_errors][0])"
   ]
  },
  {
   "cell_type": "code",
   "execution_count": 28,
   "id": "59d7c41f",
   "metadata": {},
   "outputs": [
    {
     "data": {
      "text/plain": [
       "(430, 3, 1)"
      ]
     },
     "execution_count": 28,
     "metadata": {},
     "output_type": "execute_result"
    }
   ],
   "source": [
    "action_dist.shape ## TODO why 430 down from 613??"
   ]
  }
 ],
 "metadata": {
  "kernelspec": {
   "display_name": "Python 3 (ipykernel)",
   "language": "python",
   "name": "python3"
  },
  "language_info": {
   "codemirror_mode": {
    "name": "ipython",
    "version": 3
   },
   "file_extension": ".py",
   "mimetype": "text/x-python",
   "name": "python",
   "nbconvert_exporter": "python",
   "pygments_lexer": "ipython3",
   "version": "3.10.6"
  }
 },
 "nbformat": 4,
 "nbformat_minor": 5
}
