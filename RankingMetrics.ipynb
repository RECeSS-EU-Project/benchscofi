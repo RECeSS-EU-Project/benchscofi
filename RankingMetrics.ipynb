{
 "cells": [
  {
   "cell_type": "markdown",
   "id": "4cf2e98e",
   "metadata": {},
   "source": [
    "Testing ranking metrics, the impact of random (vs carefully weakly correlated) splitting into training and testing datasets, using ``TRANSCRIPT``.\n",
    "\n",
    "## Imports"
   ]
  },
  {
   "cell_type": "code",
   "execution_count": 24,
   "id": "12fa9a21",
   "metadata": {},
   "outputs": [],
   "source": [
    "from stanscofi.utils import load_dataset\n",
    "from stanscofi.datasets import Dataset\n",
    "from stanscofi.training_testing import traintest_validation_split, print_folds, cv_training\n",
    "from stanscofi.validation import compute_metrics, plot_metrics\n",
    "\n",
    "from glob import glob\n",
    "from time import time\n",
    "import numpy as np\n",
    "\n",
    "import sys\n",
    "sys.path.insert(0,\"src/\")\n",
    "\n",
    "import benchscofi"
   ]
  },
  {
   "cell_type": "markdown",
   "id": "cbab502e",
   "metadata": {},
   "source": [
    "## Parameters"
   ]
  },
  {
   "cell_type": "code",
   "execution_count": 138,
   "id": "721ca55f",
   "metadata": {},
   "outputs": [],
   "source": [
    "random_state = 1232454\n",
    "\n",
    "########################\n",
    "## Dataset parameters ##\n",
    "########################\n",
    "dataset_folder=\"datasets/\"\n",
    "dataset_names = [\"TRANSCRIPT\"]\n",
    "split_params = {\"metric\": \"cosine\", \"test_size\": 0.2, \"split_randomly\": True}\n",
    "\n",
    "##########################\n",
    "## Algorithm parameters ##\n",
    "##########################\n",
    "algo_params = {\n",
    "    \"PMF\": {\n",
    "        'reg': 0.01,\n",
    "        'learning_rate': 0.1,\n",
    "        'n_iters': 160,\n",
    "        'n_factors': 15,\n",
    "        'batch_size': 100,\n",
    "        'decision_threshold': 0.,\n",
    "        'random_state': 12345,\n",
    "    },\n",
    "}"
   ]
  },
  {
   "cell_type": "markdown",
   "id": "2766168e",
   "metadata": {},
   "source": [
    "## Dataset import and splitting into training/testing datasets"
   ]
  },
  {
   "cell_type": "code",
   "execution_count": 99,
   "id": "b3908145",
   "metadata": {},
   "outputs": [],
   "source": [
    "#############\n",
    "## Dataset ##\n",
    "#############\n",
    "dataset_name = dataset_names[0]\n",
    "dataset_di = load_dataset(dataset_name, dataset_folder)\n",
    "dataset_di.setdefault(\"same_item_user_features\", dataset_name==\"TRANSCRIPT\")\n",
    "dataset_di.setdefault(\"name\", dataset_name)\n",
    "dataset = Dataset(**dataset_di)\n",
    "\n",
    "############################\n",
    "## Weakly correlated sets ##\n",
    "if (not split_params[\"split_randomly\"]):\n",
    "    train_set, test_set, _,_ = traintest_validation_split(dataset, test_size=split_params[\"test_size\"], \n",
    "        early_stop=2, metric=split_params[\"metric\"], disjoint_users=False, verbose=False, \n",
    "        random_state=random_state, print_dists=True)\n",
    "######################\n",
    "## Random splitting ##\n",
    "else:\n",
    "    from sklearn.model_selection import train_test_split\n",
    "    X = np.array([[j,i] for i,j in np.argwhere(np.ones(dataset.ratings_mat.shape))])\n",
    "    y = dataset.ratings_mat.ravel()\n",
    "    X_train, X_test, y_train, y_test = train_test_split(X, y, test_size=split_params[\"test_size\"], \n",
    "                            random_state=random_state, shuffle=True, stratify=y)\n",
    "    train_set = np.asarray(np.concatenate((X_train, y_train.reshape(-1,1)),axis=1), dtype=int)\n",
    "    test_set = np.asarray(np.concatenate((X_test, y_test.reshape(-1,1)),axis=1), dtype=int)\n",
    "\n",
    "###################################################################\n",
    "## Algorithm-related splitting into training and testing dataset ##\n",
    "###################################################################\n",
    "use_masked_dataset = True\n",
    "if (use_masked_dataset):\n",
    "    train_dataset = dataset.mask_dataset(train_set)\n",
    "    test_dataset = dataset.mask_dataset(test_set)\n",
    "else:\n",
    "    train_dataset = dataset.get_folds(train_set)\n",
    "    test_dataset = dataset.get_folds(test_set)"
   ]
  },
  {
   "cell_type": "markdown",
   "id": "c6971a0a",
   "metadata": {},
   "source": [
    "## Initializing model"
   ]
  },
  {
   "cell_type": "code",
   "execution_count": 139,
   "id": "46019660",
   "metadata": {},
   "outputs": [],
   "source": [
    "###############\n",
    "## Algorithm ##\n",
    "###############\n",
    "algo = [a for a in algo_params][0]\n",
    "__import__(\"benchscofi.\"+algo)\n",
    "\n",
    "from importlib import reload\n",
    "reload(benchscofi)\n",
    "reload(benchscofi.PMF)\n",
    "reload(benchscofi.implementations.BayesianPairwiseRanking)\n",
    "\n",
    "model = eval(\"benchscofi.\"+algo+\".\"+algo)(algo_params[algo])"
   ]
  },
  {
   "cell_type": "markdown",
   "id": "95caf3d9",
   "metadata": {},
   "source": [
    "## Training"
   ]
  },
  {
   "cell_type": "code",
   "execution_count": 140,
   "id": "423e051e",
   "metadata": {},
   "outputs": [
    {
     "name": "stderr",
     "output_type": "stream",
     "text": [
      "BPR: 100%|███████████████████████████████████████████████████████████████████████| 160/160 [00:00<00:00, 424.58it/s]\n"
     ]
    }
   ],
   "source": [
    "###############\n",
    "## Training  ##\n",
    "###############\n",
    "model.fit(train_dataset)"
   ]
  },
  {
   "cell_type": "markdown",
   "id": "69f0a79e",
   "metadata": {},
   "source": [
    "## Testing"
   ]
  },
  {
   "cell_type": "code",
   "execution_count": 141,
   "id": "4f8fe38b",
   "metadata": {},
   "outputs": [
    {
     "name": "stdout",
     "output_type": "stream",
     "text": [
      "* Scores\n",
      "613 unique items, 151 unique users\n",
      "Scores: Min: -13.298264\tMean: 0.001044\tMedian: 0.000000\tMax: 13.685775\tStd: 1.424633\n",
      "\n",
      "* Classification\n",
      "613 unique items, 151 unique users\n",
      "Positive class: 83284, Negative class: 9279\n",
      "\n"
     ]
    }
   ],
   "source": [
    "#################\n",
    "## Predictions ##\n",
    "#################\n",
    "scores = model.predict(test_dataset)\n",
    "predictions = model.classify(scores)\n",
    "\n",
    "model.print_scores(scores)\n",
    "model.print_classification(predictions)"
   ]
  },
  {
   "cell_type": "markdown",
   "id": "88cf5a9b",
   "metadata": {},
   "source": [
    "## Validation\n",
    "\n",
    "### Disease-wise metrics"
   ]
  },
  {
   "cell_type": "code",
   "execution_count": 142,
   "id": "e6c41214",
   "metadata": {},
   "outputs": [
    {
     "name": "stdout",
     "output_type": "stream",
     "text": [
      "<validation.compute_metrics> Computed on #users=151, 97 ignored (64 perc)\n"
     ]
    },
    {
     "data": {
      "image/png": "[encoded data removed]",
      "text/plain": [
       "<Figure size 1600x800 with 4 Axes>"
      ]
     },
     "metadata": {},
     "output_type": "display_data"
    },
    {
     "data": {
      "text/html": [
       "<div>\n",
       "<style scoped>\n",
       "    .dataframe tbody tr th:only-of-type {\n",
       "        vertical-align: middle;\n",
       "    }\n",
       "\n",
       "    .dataframe tbody tr th {\n",
       "        vertical-align: top;\n",
       "    }\n",
       "\n",
       "    .dataframe thead th {\n",
       "        text-align: right;\n",
       "    }\n",
       "</style>\n",
       "<table border=\"1\" class=\"dataframe\">\n",
       "  <thead>\n",
       "    <tr style=\"text-align: right;\">\n",
       "      <th></th>\n",
       "      <th>Avg. across users</th>\n",
       "      <th>Std</th>\n",
       "    </tr>\n",
       "  </thead>\n",
       "  <tbody>\n",
       "    <tr>\n",
       "      <th>AUC</th>\n",
       "      <td>0.600749</td>\n",
       "      <td>0.213506</td>\n",
       "    </tr>\n",
       "    <tr>\n",
       "      <th>F_1.0</th>\n",
       "      <td>0.033471</td>\n",
       "      <td>0.024978</td>\n",
       "    </tr>\n",
       "  </tbody>\n",
       "</table>\n",
       "</div>"
      ],
      "text/plain": [
       "       Avg. across users       Std\n",
       "AUC             0.600749  0.213506\n",
       "F_1.0           0.033471  0.024978"
      ]
     },
     "execution_count": 142,
     "metadata": {},
     "output_type": "execute_result"
    }
   ],
   "source": [
    "#################\n",
    "## Validation  ##\n",
    "#################\n",
    "\n",
    "from stanscofi.validation import compute_metrics, plot_metrics\n",
    "\n",
    "## disease-wise metrics\n",
    "metrics, plot_args = compute_metrics(scores, predictions, test_dataset, beta=1, ignore_zeroes=0, verbose=1)\n",
    "plot_args.update({\"model_name\": \"PMF\", \"figsize\": (16,8)})\n",
    "plot_metrics(**plot_args)\n",
    "metrics"
   ]
  },
  {
   "cell_type": "code",
   "execution_count": 314,
   "id": "e951fbc9",
   "metadata": {},
   "outputs": [],
   "source": [
    "ids = np.argwhere(np.ones(test_dataset.ratings_mat.shape))\n",
    "\n",
    "ignore_zeroes = True\n",
    "\n",
    "## If not ignore zeroes (count them towards negative)\n",
    "if (not ignore_zeroes):\n",
    "    folds_ids = [((test_dataset.folds[:,0]==j)&(test_dataset.folds[:,1]==i)).any() for i,j in ids[:,:2].tolist()]\n",
    "    y_true_all = (np.ravel(test_dataset.ratings_mat)[folds_ids]>0).astype(int) \n",
    "## If ignore zeroes (only use 1's and -1's)\n",
    "else:\n",
    "    folds_ids = [((test_dataset.folds[:,0]==j)&(test_dataset.folds[:,1]==i)&(test_dataset.folds[:,2]!=0)).any() for i,j in ids[:,:2].tolist()]\n",
    "    y_true_all = (np.ravel(test_dataset.ratings_mat)[folds_ids]>0).astype(int) \n",
    "\n",
    "scores_ = scores[folds_ids,:]\n",
    "y_pred_all = scores_[:,2].ravel()"
   ]
  },
  {
   "cell_type": "code",
   "execution_count": 315,
   "id": "bed316ef",
   "metadata": {},
   "outputs": [],
   "source": [
    "## One-hot conversion of true and fuzzy conversion of predicted labels\n",
    "y_true_oh = np.zeros((y_true_all.shape[0],2))\n",
    "for ix, x in enumerate((y_true_all>0).astype(int)):\n",
    "    y_true_oh[ix,x] = 1\n",
    "y_pred_oh = np.zeros((y_pred_all.shape[0],2))\n",
    "for ix, x in enumerate((y_pred_all>model.decision_threshold).astype(int)):\n",
    "    y_vals = np.zeros(2)\n",
    "    y_vals[x] = np.abs(y_pred_all[ix])\n",
    "    basal = 0.5 ## exact value does not influence the ranking\n",
    "    y_pred_oh[ix,:] = (y_vals+basal)/np.sum(y_vals+basal)\n",
    "\n",
    "## test if OK for y_true\n",
    "assert (y_true_oh.sum(axis=1)==1).all()\n",
    "\n",
    "if (not ignore_zeroes):\n",
    "    assert y_true_oh.sum(axis=0).sum()==test_dataset.folds.shape[0]\n",
    "    assert y_true_oh.sum(axis=0)[0]==(test_dataset.folds[:,2]<1).sum()\n",
    "    assert y_true_oh.sum(axis=0)[1]==(test_dataset.folds[:,2]==1).sum()\n",
    "    ## test if OK for y_pred\n",
    "    assert y_pred_oh.shape[0]==test_dataset.folds.shape[0]\n",
    "else:\n",
    "    assert y_true_oh.sum(axis=0).sum()==test_dataset.ratings.shape[0]\n",
    "    assert y_true_oh.sum(axis=0)[0]==(test_dataset.ratings[:,2]<1).sum()\n",
    "    assert y_true_oh.sum(axis=0)[1]==(test_dataset.ratings[:,2]==1).sum()\n",
    "    ## test if OK for y_pred\n",
    "    assert y_pred_oh.shape[0]==test_dataset.ratings.shape[0]"
   ]
  },
  {
   "cell_type": "code",
   "execution_count": 316,
   "id": "3994c7a8",
   "metadata": {
    "scrolled": true
   },
   "outputs": [
    {
     "data": {
      "text/plain": [
       "array([[0., 1.],\n",
       "       [0., 1.],\n",
       "       [0., 1.],\n",
       "       [0., 1.],\n",
       "       [0., 1.],\n",
       "       [0., 1.],\n",
       "       [0., 1.],\n",
       "       [0., 1.],\n",
       "       [0., 1.],\n",
       "       [0., 1.],\n",
       "       [0., 1.],\n",
       "       [0., 1.],\n",
       "       [0., 1.],\n",
       "       [0., 1.],\n",
       "       [0., 1.],\n",
       "       [0., 1.],\n",
       "       [0., 1.],\n",
       "       [0., 1.],\n",
       "       [0., 1.],\n",
       "       [0., 1.],\n",
       "       [0., 1.],\n",
       "       [0., 1.],\n",
       "       [0., 1.],\n",
       "       [0., 1.],\n",
       "       [0., 1.],\n",
       "       [0., 1.],\n",
       "       [0., 1.],\n",
       "       [0., 1.],\n",
       "       [0., 1.],\n",
       "       [0., 1.],\n",
       "       [0., 1.],\n",
       "       [0., 1.],\n",
       "       [0., 1.],\n",
       "       [0., 1.],\n",
       "       [0., 1.],\n",
       "       [0., 1.],\n",
       "       [0., 1.],\n",
       "       [0., 1.],\n",
       "       [0., 1.],\n",
       "       [0., 1.],\n",
       "       [0., 1.],\n",
       "       [0., 1.],\n",
       "       [0., 1.],\n",
       "       [0., 1.],\n",
       "       [0., 1.],\n",
       "       [0., 1.],\n",
       "       [0., 1.],\n",
       "       [0., 1.],\n",
       "       [0., 1.],\n",
       "       [0., 1.],\n",
       "       [0., 1.],\n",
       "       [1., 0.],\n",
       "       [0., 1.],\n",
       "       [0., 1.],\n",
       "       [0., 1.],\n",
       "       [0., 1.],\n",
       "       [0., 1.],\n",
       "       [0., 1.],\n",
       "       [0., 1.],\n",
       "       [0., 1.],\n",
       "       [0., 1.],\n",
       "       [0., 1.],\n",
       "       [0., 1.],\n",
       "       [0., 1.],\n",
       "       [0., 1.],\n",
       "       [0., 1.],\n",
       "       [0., 1.],\n",
       "       [0., 1.],\n",
       "       [0., 1.],\n",
       "       [0., 1.],\n",
       "       [1., 0.],\n",
       "       [0., 1.],\n",
       "       [0., 1.],\n",
       "       [0., 1.],\n",
       "       [0., 1.],\n",
       "       [0., 1.],\n",
       "       [0., 1.],\n",
       "       [0., 1.],\n",
       "       [0., 1.],\n",
       "       [0., 1.],\n",
       "       [0., 1.],\n",
       "       [0., 1.]])"
      ]
     },
     "execution_count": 316,
     "metadata": {},
     "output_type": "execute_result"
    }
   ],
   "source": [
    "y_true_oh #np.argmax(y_true_oh,axis=1) gives classes"
   ]
  },
  {
   "cell_type": "code",
   "execution_count": 317,
   "id": "840cf545",
   "metadata": {
    "scrolled": true
   },
   "outputs": [
    {
     "data": {
      "text/plain": [
       "array([[0.11328387, 0.88671613],\n",
       "       [0.1438799 , 0.8561201 ],\n",
       "       [0.8863003 , 0.1136997 ],\n",
       "       [0.17695763, 0.82304237],\n",
       "       [0.09359136, 0.90640864],\n",
       "       [0.47704586, 0.52295414],\n",
       "       [0.14005037, 0.85994963],\n",
       "       [0.25444978, 0.74555022],\n",
       "       [0.18668033, 0.81331967],\n",
       "       [0.11655388, 0.88344612],\n",
       "       [0.14248998, 0.85751002],\n",
       "       [0.40001909, 0.59998091],\n",
       "       [0.24206775, 0.75793225],\n",
       "       [0.11858924, 0.88141076],\n",
       "       [0.17483099, 0.82516901],\n",
       "       [0.0772106 , 0.9227894 ],\n",
       "       [0.15965208, 0.84034792],\n",
       "       [0.50024161, 0.49975839],\n",
       "       [0.08254891, 0.91745109],\n",
       "       [0.13869022, 0.86130978],\n",
       "       [0.05087713, 0.94912287],\n",
       "       [0.91533917, 0.08466083],\n",
       "       [0.86608384, 0.13391616],\n",
       "       [0.1450161 , 0.8549839 ],\n",
       "       [0.11598467, 0.88401533],\n",
       "       [0.36962743, 0.63037257],\n",
       "       [0.79078026, 0.20921974],\n",
       "       [0.30409206, 0.69590794],\n",
       "       [0.05804357, 0.94195643],\n",
       "       [0.24048279, 0.75951721],\n",
       "       [0.12783338, 0.87216662],\n",
       "       [0.16805272, 0.83194728],\n",
       "       [0.4024795 , 0.5975205 ],\n",
       "       [0.89202402, 0.10797598],\n",
       "       [0.13895774, 0.86104226],\n",
       "       [0.20699515, 0.79300485],\n",
       "       [0.120358  , 0.879642  ],\n",
       "       [0.36569678, 0.63430322],\n",
       "       [0.80017417, 0.19982583],\n",
       "       [0.12696649, 0.87303351],\n",
       "       [0.13542004, 0.86457996],\n",
       "       [0.19091748, 0.80908252],\n",
       "       [0.64047595, 0.35952405],\n",
       "       [0.1301439 , 0.8698561 ],\n",
       "       [0.04540929, 0.95459071],\n",
       "       [0.18812221, 0.81187779],\n",
       "       [0.13857645, 0.86142355],\n",
       "       [0.13479545, 0.86520455],\n",
       "       [0.13844144, 0.86155856],\n",
       "       [0.57398488, 0.42601512],\n",
       "       [0.13363812, 0.86636188],\n",
       "       [0.10627098, 0.89372902],\n",
       "       [0.43256762, 0.56743238],\n",
       "       [0.46536591, 0.53463409],\n",
       "       [0.68132319, 0.31867681],\n",
       "       [0.16045751, 0.83954249],\n",
       "       [0.83154393, 0.16845607],\n",
       "       [0.63917618, 0.36082382],\n",
       "       [0.79513891, 0.20486109],\n",
       "       [0.0892818 , 0.9107182 ],\n",
       "       [0.70392352, 0.29607648],\n",
       "       [0.07544047, 0.92455953],\n",
       "       [0.1231689 , 0.8768311 ],\n",
       "       [0.47850721, 0.52149279],\n",
       "       [0.12410821, 0.87589179],\n",
       "       [0.20497522, 0.79502478],\n",
       "       [0.10745428, 0.89254572],\n",
       "       [0.88107479, 0.11892521],\n",
       "       [0.69389695, 0.30610305],\n",
       "       [0.89315182, 0.10684818],\n",
       "       [0.90489283, 0.09510717],\n",
       "       [0.70359903, 0.29640097],\n",
       "       [0.15091484, 0.84908516],\n",
       "       [0.11695367, 0.88304633],\n",
       "       [0.2702246 , 0.7297754 ],\n",
       "       [0.1597783 , 0.8402217 ],\n",
       "       [0.12214977, 0.87785023],\n",
       "       [0.91083435, 0.08916565],\n",
       "       [0.85662028, 0.14337972],\n",
       "       [0.10325054, 0.89674946],\n",
       "       [0.84902899, 0.15097101],\n",
       "       [0.64453891, 0.35546109]])"
      ]
     },
     "execution_count": 317,
     "metadata": {},
     "output_type": "execute_result"
    }
   ],
   "source": [
    "y_pred_oh #np.argmax(y_pred_oh,axis=1) gives classes"
   ]
  },
  {
   "cell_type": "markdown",
   "id": "47d2d063",
   "metadata": {},
   "source": [
    "### Full dataset metrics"
   ]
  },
  {
   "cell_type": "code",
   "execution_count": 318,
   "id": "782c289d",
   "metadata": {},
   "outputs": [
    {
     "name": "stdout",
     "output_type": "stream",
     "text": [
      "AUC=0.543750\n",
      "ACC=0.719512\n"
     ]
    }
   ],
   "source": [
    "## full test_dataset metrics\n",
    "from sklearn.metrics import roc_auc_score, accuracy_score\n",
    "\n",
    "print(\"AUC=%f\" % roc_auc_score(y_true_all, y_pred_all))\n",
    "print(\"ACC=%f\" % accuracy_score(y_true_all, (y_pred_all>model.decision_threshold).astype(int)))"
   ]
  },
  {
   "cell_type": "markdown",
   "id": "2421287a",
   "metadata": {},
   "source": [
    "### Ranking metrics\n",
    "\n",
    "#### DCG / NCDG\n",
    "\n",
    "Formula for normalized discounted cumulative gain (NDCG) up to rank $k<N=$\\#pairs on the ranking on pairs by *decreasing* predicted score given by the permutation $\\sigma : \\{p_1,p_2,\\dots,p_k,p_{k+1},\\dots,p_N\\} \\rightarrow [N]=\\{1,2,\\dots,N\\}$, and the list of true scores $t : \\{p_1,p_2,\\dots,p_k\\} \\rightarrow \\mathbb{R}$ corresponding to the ideal permutation $\\sigma^\\star$ (such that $(\\sigma^\\star)^{-1}(1) = \\arg\\max_{i}t(p_i)$, $\\dots$, $(\\sigma^\\star)^{-1}(N)=\\arg\\min_{i}t(p_i)$):\n",
    "\n",
    "$$ \\text{nDCG}_k(\\sigma,t) := \\underbrace{\\sum_{i=1}^k \\frac{t[\\sigma^{-1}(i)]}{\\log_2(i+1)}}_\\text{DCG$_k(\\sigma,t)$} / \\underbrace{\\sum_{j=1}^k \\frac{t[(\\sigma^\\star)^{-1}(j)]}{\\log_2(j+1)}}_\\text{ideal DCG$_k(\\sigma,t)$=DCG$_k(\\sigma^\\star,t)$}\\;.$$"
   ]
  },
  {
   "cell_type": "code",
   "execution_count": 319,
   "id": "063da41f",
   "metadata": {},
   "outputs": [
    {
     "name": "stdout",
     "output_type": "stream",
     "text": [
      "NDCG0=0.698947\n",
      "NDCG2=0.500000\n",
      "NDCG5=0.653287\n",
      "NDCG10=0.621476\n",
      "NDCG20=0.632757\n",
      "NDCG1=0.500000\n"
     ]
    }
   ],
   "source": [
    "## ranking metrics\n",
    "from sklearn.metrics import ndcg_score\n",
    "\n",
    "#y_true_ndcg = np.asarray([y_true_all.tolist()])\n",
    "#y_pred_ndcg = np.asarray([y_pred_all.tolist()])\n",
    "y_true_ndcg = y_true_oh.T\n",
    "y_pred_ndcg = y_pred_oh.T\n",
    "\n",
    "for k in [None, 2, 5, 10, 20, np.argmax(relevance_values_ranked)+1]:\n",
    "    print(\"NDCG%d=%f\" % (\n",
    "        0 if (k is None) else k, \n",
    "        ndcg_score(y_true_ndcg, y_pred_ndcg, k=k)\n",
    "    ))"
   ]
  },
  {
   "cell_type": "markdown",
   "id": "59c74069",
   "metadata": {},
   "source": [
    "**Notation:** Let us consider the ranking on $N$ pairs by *decreasing* predicted score identified by $\\{1,2,\\dots,N\\}$ given by permutation $\\sigma : \\{p_1,p_2,\\dots,p_k,p_{k+1},\\dots,p_N\\} \\rightarrow [N]=\\{1,2,\\dots,N\\}$, and the list of true scores $t : \\{p_1,p_2,\\dots,p_k\\} \\rightarrow \\mathbb{R}$. $N_\\text{pos}$ is the number of positive pairs among the $N$ ones.\n",
    "\n",
    "#### Mean reciprocal rank (MRR)\n",
    "\n",
    "Here, we only perform one ''query'' (retrieve a positive pair) and as such, the corresponding rank of the correct answer in our case is the minimum rank of a positive pair in the ranking by predicted scores:\n",
    "\n",
    "$$ \\text{MRR}(\\sigma,t) := \\arg\\min_{\\substack{r \\in [N]\\\\t[\\sigma^{-1}(r)]=1}} 1/r\\;.$$\n",
    "\n",
    "#### R-Precision\n",
    "\n",
    "$$ \\text{RP}(\\sigma,t) := \\frac{\\sum_{r=1}^{N_\\text{pos}} \\delta(t[\\sigma^{-1}(r)]=1)}{N_\\text{pos}}\\;.$$\n",
    "\n",
    "#### Precision @ k\n",
    "\n",
    "$$ \\text{Prec@}k(\\sigma,t) := \\frac{\\sum_{r=1}^{k} \\delta(t[\\sigma^{-1}(r)]=1)}{k}\\;.$$\n",
    "\n",
    "#### Average Precision (AP)\n",
    "\n",
    "$$ \\text{AP}(\\sigma,t) := \\frac{1}{N_\\text{pos}}\\sum_{r=1}^{N_\\text{pos}}\\text{Prec@}r(\\sigma,t)\\;.$$\n",
    "\n",
    "#### Mean Average Precision (mAP)\n",
    "\n",
    "Since we only have one class, in our case mAP=AP."
   ]
  },
  {
   "cell_type": "code",
   "execution_count": 324,
   "id": "36077255",
   "metadata": {},
   "outputs": [
    {
     "data": {
      "text/html": [
       "<div>\n",
       "<style scoped>\n",
       "    .dataframe tbody tr th:only-of-type {\n",
       "        vertical-align: middle;\n",
       "    }\n",
       "\n",
       "    .dataframe tbody tr th {\n",
       "        vertical-align: top;\n",
       "    }\n",
       "\n",
       "    .dataframe thead th {\n",
       "        text-align: right;\n",
       "    }\n",
       "</style>\n",
       "<table border=\"1\" class=\"dataframe\">\n",
       "  <thead>\n",
       "    <tr style=\"text-align: right;\">\n",
       "      <th></th>\n",
       "      <th>values</th>\n",
       "    </tr>\n",
       "  </thead>\n",
       "  <tbody>\n",
       "    <tr>\n",
       "      <th>MRR</th>\n",
       "      <td>1.000000</td>\n",
       "    </tr>\n",
       "    <tr>\n",
       "      <th>RP</th>\n",
       "      <td>0.975610</td>\n",
       "    </tr>\n",
       "    <tr>\n",
       "      <th>Prec@1</th>\n",
       "      <td>1.000000</td>\n",
       "    </tr>\n",
       "    <tr>\n",
       "      <th>AP</th>\n",
       "      <td>0.974086</td>\n",
       "    </tr>\n",
       "    <tr>\n",
       "      <th>mAP</th>\n",
       "      <td>0.974086</td>\n",
       "    </tr>\n",
       "    <tr>\n",
       "      <th>DCG@1</th>\n",
       "      <td>1.000000</td>\n",
       "    </tr>\n",
       "    <tr>\n",
       "      <th>NDCG@1</th>\n",
       "      <td>1.000000</td>\n",
       "    </tr>\n",
       "  </tbody>\n",
       "</table>\n",
       "</div>"
      ],
      "text/plain": [
       "          values\n",
       "MRR     1.000000\n",
       "RP      0.975610\n",
       "Prec@1  1.000000\n",
       "AP      0.974086\n",
       "mAP     0.974086\n",
       "DCG@1   1.000000\n",
       "NDCG@1  1.000000"
      ]
     },
     "execution_count": 324,
     "metadata": {},
     "output_type": "execute_result"
    }
   ],
   "source": [
    "import subprocess as sb\n",
    "url_code=\"https://gist.githubusercontent.com/bwhite/3726239/raw/2c92e90259b01b4a657d20c0ad8390caadd59c8b/rank_metrics.py\"\n",
    "sb.call(\"wget -qnc %s\" % url_code, shell=True)\n",
    "from rank_metrics import *\n",
    "\n",
    "## True classes for each pair ranked by the corresponding predicted score\n",
    "relevance_values_ranked = y_true_all[np.argsort(-y_pred_all)]\n",
    "\n",
    "k=np.argmax(relevance_values_ranked)+1 ## rank of first positive item in predicted ranking\n",
    "\n",
    "import pandas as pd\n",
    "pd.DataFrame([\n",
    "    [mean_reciprocal_rank([relevance_values_ranked])],\n",
    "    [r_precision(relevance_values_ranked)],\n",
    "    [precision_at_k(relevance_values_ranked, k)],\n",
    "    [average_precision(relevance_values_ranked)],\n",
    "    [mean_average_precision([relevance_values_ranked])],\n",
    "    [dcg_at_k(relevance_values_ranked, k, method=0)],\n",
    "    [ndcg_at_k(relevance_values_ranked, k, method=0)], \n",
    "    ## not the same value as in scikit-learn??\n",
    "], columns=[\"values\"], index=[\"MRR\",\"RP\",\"Prec@%d\" % k, \"AP\", \"mAP\", \"DCG@%d\" % k,\n",
    "                             'NDCG@%d' % k])"
   ]
  },
  {
   "cell_type": "markdown",
   "id": "0afaa0c1",
   "metadata": {},
   "source": [
    "#### Label ranking average precision (LRAP)\n",
    "\n",
    "**Notation:** Let us consider $N$ pairs, and the ground truth for pair $i \\leq N$ $y_i \\in \\{0,1\\}^2$ ($\\|y_i\\|_0=1$) and the corresponding predicted score $\\hat{y}_i \\in [0,1]^2$ ($\\|\\hat{y}_i\\|_1=1$), since, in our case, there is only one single class.\n",
    "\n",
    "$$\\text{LRAP}(p,t) := \\frac{1}{N}\\sum_{i=1}^N \\frac{1}{1+\\delta(\\hat{y}_i[0]\\geq \\hat{y}_i[1])}\\;.$$"
   ]
  },
  {
   "cell_type": "code",
   "execution_count": 322,
   "id": "ffeb1e8f",
   "metadata": {},
   "outputs": [
    {
     "name": "stdout",
     "output_type": "stream",
     "text": [
      "LRAP=0.577226\n"
     ]
    }
   ],
   "source": [
    "from sklearn.metrics import label_ranking_average_precision_score\n",
    "\n",
    "print(\"LRAP=%f\" % (label_ranking_average_precision_score(y_true_ndcg, y_pred_ndcg)))"
   ]
  },
  {
   "cell_type": "markdown",
   "id": "a28cd191",
   "metadata": {},
   "source": [
    "#### Kendall's $\\tau$\n",
    "\n",
    "If $N_\\text{dis}$ is the number of discordant pairs between predicted scores $p$ and true labels $t$ (i.e., $(i,j)$ such that $p[i]<p[j] \\land t[i]>t[j]$ or $p[j]<p[i] \\land t[j]>t[i]$)\n",
    "\n",
    "$$\\tau(p,t) = 1 - \\frac{2N_\\text{dis}(p,t)}{C^n_2}\\;.$$\n",
    "\n",
    "A smarter version is implemented in ``scipy`` which takes into account ties.\n",
    "\n",
    "#### Spearman's $r$\n",
    "\n",
    "Roughly Pearson correlation on ranks instead of scores.\n",
    "\n",
    "#### Expected reciprocal rank (ERR)\n",
    "\n",
    "Here, we consider a single query (find one positive pair). If $\\sigma$ is the ranking induced by decreasing predicted scores and $t$ the true binary labels on $N$ pairs. This is supposed to introduce some dependency with prior elements encountered in the ranking [[ref]](https://dl.acm.org/doi/abs/10.1145/1645953.1646033)\n",
    "\n",
    "$$\\text{ERR} := \\sum_{k=1}^N \\frac{1}{k}t[\\sigma^{-1}(k)]\\Pi_{i=1}^{k-1}(1-t[\\sigma^{-1}(i)])\\;.$$"
   ]
  },
  {
   "cell_type": "code",
   "execution_count": 333,
   "id": "c0068f31",
   "metadata": {},
   "outputs": [
    {
     "name": "stdout",
     "output_type": "stream",
     "text": [
      "Kendall tau=0.019206 (p=0.833339)\n",
      "Spearman r=0.023380 (p=0.834843)\n"
     ]
    }
   ],
   "source": [
    "from scipy.stats import kendalltau, spearmanr\n",
    "\n",
    "## True classes for each pair ranked by the corresponding predicted score\n",
    "predicted_values_ranked = y_pred_all[np.argsort(-y_true_all)]\n",
    "ground_truth_ranking = np.array([1]*np.sum(y_true_all==1)+[0]*np.sum(y_true_all<1))\n",
    "\n",
    "res = kendalltau(predicted_values_ranked, ground_truth_ranking)\n",
    "print(\"Kendall tau=%f (p=%f)\" % (res.correlation, res.pvalue))\n",
    "\n",
    "res = spearmanr(predicted_values_ranked, ground_truth_ranking)\n",
    "print(\"Spearman r=%f (p=%f)\" % (res.correlation, res.pvalue))"
   ]
  },
  {
   "cell_type": "code",
   "execution_count": 337,
   "id": "ece1f4f8",
   "metadata": {},
   "outputs": [
    {
     "name": "stdout",
     "output_type": "stream",
     "text": [
      "ERR=0.456009\n"
     ]
    }
   ],
   "source": [
    "import subprocess as sb\n",
    "url_code=\"https://raw.githubusercontent.com/skondo/evaluation_measures/master/evaluations_measures.py\"\n",
    "sb.call(\"wget -qnc %s\" % url_code, shell=True)\n",
    "#from evaluations_measures import *\n",
    "\n",
    "# ERR (Expected Reciprocal Rank)\n",
    "# NOTE: max_grade should be *2*\n",
    "def err(ranking, max=10, max_grade=2):\n",
    "    if max is None:\n",
    "        max = len(ranking)\n",
    "    \n",
    "    ranking = ranking[:min(len(ranking), max)]\n",
    "    ranking = map(float, ranking)\n",
    "\n",
    "    result = 0.0\n",
    "    prob_step_down = 1.0\n",
    "    \n",
    "    for rank, rel in enumerate(ranking):\n",
    "        rank += 1\n",
    "        utility = (pow(2, rel) - 1) / pow(2, max_grade)\n",
    "        result += prob_step_down * utility / rank\n",
    "        prob_step_down *= (1 - utility) \n",
    "      \n",
    "    return result\n",
    "\n",
    "## True classes for each pair ranked by the corresponding predicted score\n",
    "relevance_values_ranked = y_true_all[np.argsort(-y_pred_all)]\n",
    "\n",
    "print(\"ERR=%f\" % err(relevance_values_ranked, max=10, max_grade=2))"
   ]
  }
 ],
 "metadata": {
  "kernelspec": {
   "display_name": "Python 3 (ipykernel)",
   "language": "python",
   "name": "python3"
  },
  "language_info": {
   "codemirror_mode": {
    "name": "ipython",
    "version": 3
   },
   "file_extension": ".py",
   "mimetype": "text/x-python",
   "name": "python",
   "nbconvert_exporter": "python",
   "pygments_lexer": "ipython3",
   "version": "3.8.5"
  }
 },
 "nbformat": 4,
 "nbformat_minor": 5
}
